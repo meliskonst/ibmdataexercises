{
 "cells": [
  {
   "cell_type": "markdown",
   "metadata": {},
   "source": [
    "<center>\n",
    "    <img src=\"https://cf-courses-data.s3.us.cloud-object-storage.appdomain.cloud/IBMDeveloperSkillsNetwork-DS0105EN-SkillsNetwork/labs/Module2/images/SN_web_lightmode.png\" width=\"300\" alt=\"cognitiveclass.ai logo\"  />\n",
    "</center>\n"
   ]
  },
  {
   "cell_type": "markdown",
   "metadata": {},
   "source": [
    "#### Add your code below following the instructions given in the course\n"
   ]
  },
  {
   "cell_type": "markdown",
   "metadata": {},
   "source": [
    "# My Jupyter Notebook on IBM Watson Studio"
   ]
  },
  {
   "cell_type": "markdown",
   "metadata": {},
   "source": [
    "**Melis** <br>\n",
    "Financial Data Analyst"
   ]
  },
  {
   "cell_type": "markdown",
   "metadata": {},
   "source": [
    "*I am interested in data science because i am passionate about understanding the story behind financial data and i would like to be able to convert this data to information which will generate value for my organisation. I am also very interested about the broad scope of the benefits which can created from machine learning algorithms.*"
   ]
  },
  {
   "cell_type": "markdown",
   "metadata": {},
   "source": [
    "<h5> The code in cell 5 will print a \"Hello IBM\" string on the Notebook. </h5>"
   ]
  },
  {
   "cell_type": "code",
   "execution_count": 1,
   "metadata": {},
   "outputs": [
    {
     "name": "stdout",
     "output_type": "stream",
     "text": [
      "Hello IBM\n"
     ]
    }
   ],
   "source": [
    "print(\"Hello IBM\")"
   ]
  },
  {
   "cell_type": "markdown",
   "metadata": {},
   "source": [
    "<hr> <br>\n",
    "<ul>\n",
    "    <li>Item 1 in buletted list</li>\n",
    "    <li>Item 3 in buletted list</li>\n",
    "    <li>Item 3 in buletted list</li>\n",
    "</ul>\n",
    "<ol>\n",
    "    <li>Number 1</li>\n",
    "    <li>Number 2</li>\n",
    "    <li>Number 3</li>\n",
    "</ol>\n",
    "<a>https://coursera.org/</a><br>\n",
    "<s>This is a strikethrough text</s><br>\n",
    "<h5> The below item is a table</h5>\n",
    "<table>\n",
    "    <tr>\n",
    "        <th>Column 1</th>\n",
    "        <th>Column 2</th>\n",
    "    </tr>\n",
    "    <tr>\n",
    "        <td>Cell 1</td>\n",
    "        <td>Cell 2</td>\n",
    "    </tr>\n",
    "</table>\n",
    "\n"
   ]
  }
 ],
 "metadata": {
  "kernelspec": {
   "display_name": "Python 3",
   "language": "python",
   "name": "python3"
  },
  "language_info": {
   "codemirror_mode": {
    "name": "ipython",
    "version": 3
   },
   "file_extension": ".py",
   "mimetype": "text/x-python",
   "name": "python",
   "nbconvert_exporter": "python",
   "pygments_lexer": "ipython3",
   "version": "3.6.3"
  }
 },
 "nbformat": 4,
 "nbformat_minor": 4
}
